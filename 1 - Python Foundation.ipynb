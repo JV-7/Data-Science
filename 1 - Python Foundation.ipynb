{
 "cells": [
  {
   "cell_type": "markdown",
   "id": "35b5a8a5-d29a-485f-a7b6-1d38c25e7eff",
   "metadata": {},
   "source": [
    "#### <b> If-else with Boolean Values"
   ]
  },
  {
   "cell_type": "code",
   "execution_count": null,
   "id": "33ac05e9-c09c-4f31-a96b-3e006cc0a7b3",
   "metadata": {},
   "outputs": [],
   "source": [
    "if(True):\n",
    "    print('True')\n",
    "else:\n",
    "    print('Failed')"
   ]
  },
  {
   "cell_type": "code",
   "execution_count": null,
   "id": "c3724718-5da6-4cf9-8126-0fa3341362fd",
   "metadata": {},
   "outputs": [],
   "source": [
    "if(False):\n",
    "    print('True')\n",
    "else:\n",
    "    print('Failed')"
   ]
  },
  {
   "cell_type": "markdown",
   "id": "dbeaf74c-cf0f-4d43-8970-2f85dc11c8d9",
   "metadata": {},
   "source": [
    "<b> comparsion operator"
   ]
  },
  {
   "cell_type": "code",
   "execution_count": null,
   "id": "e0875f4b-592b-4d34-a051-ce4ac2cf51f3",
   "metadata": {},
   "outputs": [],
   "source": [
    "print('win'=='win')"
   ]
  },
  {
   "cell_type": "code",
   "execution_count": 1,
   "id": "5f2fa2ee-e4c6-4781-b246-249dccc8c34c",
   "metadata": {},
   "outputs": [
    {
     "name": "stdout",
     "output_type": "stream",
     "text": [
      "False\n"
     ]
    }
   ],
   "source": [
    "print('win'=='winn')"
   ]
  },
  {
   "cell_type": "markdown",
   "id": "315c8e2b-7efc-47e6-85c9-5937b34844e8",
   "metadata": {},
   "source": [
    "##### <b> Example"
   ]
  },
  {
   "cell_type": "code",
   "execution_count": null,
   "id": "d1c98dcd-8616-4a9e-865d-236a9f75e192",
   "metadata": {},
   "outputs": [],
   "source": [
    "RCB = 'Win'\n",
    "\n",
    "if (RCB == 'Win'):\n",
    "    print('Ee sala cup namde')\n",
    "else:\n",
    "    print('valakam pola namaku cup ila')"
   ]
  },
  {
   "cell_type": "code",
   "execution_count": null,
   "id": "25fdd45a-25b2-47bd-843f-4c0bcef051de",
   "metadata": {},
   "outputs": [],
   "source": [
    "Meghna = str(input('Is Meghna Died: '))\n",
    "\n",
    "if (Meghna == 'Died'):\n",
    "    print('Surya meets Priya')\n",
    "else:\n",
    "    print('Surya meets Meghana')"
   ]
  },
  {
   "cell_type": "markdown",
   "id": "49aa07e5-9b1a-4103-be91-ca0f31d92884",
   "metadata": {},
   "source": [
    "##### *If-else with Boolean Values*"
   ]
  },
  {
   "cell_type": "code",
   "execution_count": null,
   "id": "5e711232-b57f-4c62-8d4e-f0975ce82b93",
   "metadata": {},
   "outputs": [],
   "source": [
    "while True:\n",
    "    Meghna = input('Is Meghna Dead? (Yes/No)').strip().capitalize()  # strip - helps to remove the unwanted spaces\n",
    "    if (Meghna == 'Yes'):\n",
    "        print('Surya meets Priya')\n",
    "        break\n",
    "    elif (Meghna == 'No'):\n",
    "        print('Surya meets Meghana')\n",
    "        break\n",
    "    else:\n",
    "        print('Invalid input')"
   ]
  },
  {
   "cell_type": "markdown",
   "id": "0f700bd7-62c0-48ad-bedd-455982d491e7",
   "metadata": {},
   "source": [
    "##### *if-else with examples*"
   ]
  },
  {
   "cell_type": "code",
   "execution_count": null,
   "id": "f886362e-c182-4b5a-b993-dac3d83d4c63",
   "metadata": {},
   "outputs": [],
   "source": [
    "mark = int(input('Enter the Mark:').strip())\n",
    "if mark > 35:\n",
    "    print('Pass')\n",
    "else:\n",
    "    print('Fail')"
   ]
  },
  {
   "cell_type": "code",
   "execution_count": null,
   "id": "3e70bde2-7fa6-4eb5-b88b-3294d33b75a6",
   "metadata": {},
   "outputs": [],
   "source": [
    "a = 10\n",
    "print(a/2) # remainder\n",
    "print(a%2) # quotient"
   ]
  },
  {
   "cell_type": "code",
   "execution_count": null,
   "id": "d034488a-dae0-43e5-af3e-7edaa932cc3d",
   "metadata": {},
   "outputs": [],
   "source": [
    "a = int(input('Enter the number:').strip())\n",
    "if a%3 == 0:\n",
    "    print(f'Divisible by 3, Answer {a%3}')\n",
    "else:\n",
    "    print(f'Non-Divisible by 3, Answer {a%3}')"
   ]
  },
  {
   "cell_type": "markdown",
   "id": "7b35e845-e689-4ad3-82f3-c9c1acd33f39",
   "metadata": {},
   "source": [
    "#### binary operator - 'And', 'Or', 'Not'"
   ]
  },
  {
   "cell_type": "code",
   "execution_count": 3,
   "id": "d24bc627-1578-4391-93bf-3b7f30674b09",
   "metadata": {},
   "outputs": [
    {
     "name": "stdin",
     "output_type": "stream",
     "text": [
      "Enter the number: 60\n"
     ]
    },
    {
     "name": "stdout",
     "output_type": "stream",
     "text": [
      "Divisible by 3 and 5, Answer 0, 0\n"
     ]
    }
   ],
   "source": [
    "a = int(input('Enter the number:').strip())\n",
    "if a%3 == 0 and a%5 == 0:\n",
    "    print(f'Divisible by 3 and 5, Answer {a%3}, {a%5}')\n",
    "else:\n",
    "    print(f'Non-Divisible by 3 and 5, Answer {a%3}, {a%5}')"
   ]
  },
  {
   "cell_type": "markdown",
   "id": "8221a261-e31b-487b-be1e-7a812f0c9db0",
   "metadata": {},
   "source": [
    "## <b> while-loop Explained"
   ]
  },
  {
   "cell_type": "code",
   "execution_count": 1,
   "id": "a3dfef79-af10-4e57-9916-1b554de4f402",
   "metadata": {},
   "outputs": [
    {
     "name": "stdout",
     "output_type": "stream",
     "text": [
      "0\n",
      "1\n",
      "2\n",
      "3\n",
      "4\n",
      "A\n",
      "p\n",
      "p\n",
      "l\n",
      "y\n",
      "0 x 2 = 0\n",
      "1 x 2 = 2\n",
      "2 x 2 = 4\n",
      "3 x 2 = 6\n",
      "4 x 2 = 8\n",
      "5 x 2 = 10\n",
      "6 x 2 = 12\n",
      "7 x 2 = 14\n",
      "8 x 2 = 16\n",
      "9 x 2 = 18\n",
      "10 x 2 = 20\n",
      "0\n",
      "2\n",
      "4\n",
      "6\n",
      "8\n"
     ]
    }
   ],
   "source": [
    "for i in range(5):\n",
    "    print(i)\n",
    "for i in 'Apply':\n",
    "    print(i)\n",
    "\n",
    "for i in range(11):\n",
    "    print(i, f'x 2 = {i*2}')\n",
    "\n",
    "for i in range(0,10,2):\n",
    "    print(i)\n"
   ]
  },
  {
   "cell_type": "code",
   "execution_count": 4,
   "id": "592dd7a0-6d18-4908-a442-2ea9981a79cb",
   "metadata": {},
   "outputs": [
    {
     "name": "stdout",
     "output_type": "stream",
     "text": [
      "2500\n"
     ]
    }
   ],
   "source": [
    "count = 0\n",
    "for i in range(5000):\n",
    "    if i%2 == 0:\n",
    "        count = count + 1\n",
    "print(count)"
   ]
  },
  {
   "cell_type": "code",
   "execution_count": null,
   "id": "1ef5043a-4971-480c-be6d-fe770a9babe7",
   "metadata": {},
   "outputs": [],
   "source": [
    "sum = 0\n",
    "for i in range(1, 6):\n",
    "    print(f'Total: {i+i}')\n",
    "    sum = sum + i\n",
    "print(f'Final_Total: {sum}')"
   ]
  },
  {
   "cell_type": "markdown",
   "id": "b9c9cc1f-9633-43c3-995d-fd10f3f55c40",
   "metadata": {},
   "source": [
    "### Nested for-loop"
   ]
  },
  {
   "cell_type": "code",
   "execution_count": 5,
   "id": "80292b59-9f2b-4347-90b9-b4e393096e92",
   "metadata": {},
   "outputs": [
    {
     "name": "stdin",
     "output_type": "stream",
     "text": [
      "Enter the No:1 60\n",
      "Enter the No:2 01\n",
      "Enter the No:3 30\n",
      "Enter the No:4 32\n",
      "Enter the No:5 74\n"
     ]
    },
    {
     "name": "stdout",
     "output_type": "stream",
     "text": [
      "a [60, 1, 30, 32, 74]\n",
      "532\n"
     ]
    }
   ],
   "source": [
    "a = []\n",
    "sum = 0\n",
    "for i in range(1,6):\n",
    "    num = int(input('Enter the No:'+ str(i).strip()))\n",
    "    a.append(num)\n",
    "    for j in a:\n",
    "        sum = sum + j\n",
    "print(\"a: \", a)\n",
    "print('Sum: ', sum)\n"
   ]
  },
  {
   "cell_type": "code",
   "execution_count": 6,
   "id": "2d4afcbf-f54a-4b50-b3f5-2b886ac3126e",
   "metadata": {},
   "outputs": [
    {
     "name": "stdout",
     "output_type": "stream",
     "text": [
      "1 values\n",
      "2 values\n",
      "1 values\n",
      "2 values\n",
      "1 values\n",
      "2 values\n",
      "1 values\n",
      "2 values\n"
     ]
    }
   ],
   "source": [
    "for i in range(1,5):\n",
    "    for j in range(1,3):\n",
    "        print(j, 'values')"
   ]
  },
  {
   "cell_type": "code",
   "execution_count": 7,
   "id": "6e6478a2-696f-499c-b555-926d3efba57d",
   "metadata": {},
   "outputs": [
    {
     "name": "stdout",
     "output_type": "stream",
     "text": [
      "Week 1:\n",
      "  Day: 1\n",
      "  Day: 2\n",
      "  Day: 3\n",
      "Week 2:\n",
      "  Day: 1\n",
      "  Day: 2\n",
      "  Day: 3\n"
     ]
    }
   ],
   "source": [
    "for i in range(1,3):\n",
    "    print(f'Week {i}:')\n",
    "    for j in range(1,4):\n",
    "        print(f'  Day: {j}')"
   ]
  },
  {
   "cell_type": "code",
   "execution_count": 8,
   "id": "b08e161e-e0a5-49dc-9482-f4e490cba296",
   "metadata": {},
   "outputs": [
    {
     "name": "stdout",
     "output_type": "stream",
     "text": [
      "\n",
      "1*\n",
      "1*2*\n",
      "1*2*3*\n",
      "1*2*3*4*"
     ]
    }
   ],
   "source": [
    "for i in range(1, 5):\n",
    "    print('')\n",
    "    for j in range(1, i+1):\n",
    "        print(j, end='*')"
   ]
  },
  {
   "cell_type": "code",
   "execution_count": 6,
   "id": "9eb056cf-14dd-418c-9e95-3a34c86552fc",
   "metadata": {},
   "outputs": [
    {
     "name": "stdout",
     "output_type": "stream",
     "text": [
      "\n",
      "*\n",
      "**\n",
      "***\n",
      "****"
     ]
    }
   ],
   "source": [
    "a = ''\n",
    "for i in range(1,5):\n",
    "    print()\n",
    "    for j in range(1, i+1):\n",
    "        print(a, end='*')"
   ]
  },
  {
   "cell_type": "markdown",
   "id": "c5f39c74-cb7e-4a92-a526-78cc444a3e7a",
   "metadata": {},
   "source": [
    "# While Loop\n",
    "    ► The while loop is usually used when the number of iterations is unknown"
   ]
  },
  {
   "cell_type": "code",
   "execution_count": null,
   "id": "2573ccc0-46ba-42ec-a277-5246a3353b25",
   "metadata": {},
   "outputs": [],
   "source": [
    "i = 5\n",
    "while i < 10:\n",
    "    print(i)\n",
    "    i = i + 1"
   ]
  },
  {
   "cell_type": "code",
   "execution_count": null,
   "id": "5d76c547-a61c-464a-bc39-8fc0077c97a0",
   "metadata": {},
   "outputs": [],
   "source": [
    "i = 10\n",
    "while i <= 200:\n",
    "    print(i, end=',')\n",
    "    i = i + 10"
   ]
  },
  {
   "cell_type": "code",
   "execution_count": null,
   "id": "0e1a5593-238d-4138-8f39-6618593d2db1",
   "metadata": {},
   "outputs": [],
   "source": [
    "i = 10\n",
    "while i > 0:\n",
    "    print(i, end=',')\n",
    "    i = i - 1"
   ]
  },
  {
   "cell_type": "code",
   "execution_count": null,
   "id": "7a958486-4f6e-4a3a-ba60-708733662ee5",
   "metadata": {},
   "outputs": [],
   "source": [
    "i = 3\n",
    "fact = 1\n",
    "while i > 0:\n",
    "    fact = fact*i\n",
    "    i = i - 1\n",
    "\n",
    "print(fact)\n",
    "    "
   ]
  },
  {
   "cell_type": "markdown",
   "id": "fe7b6f64-7e71-4e6a-a9d8-dc83daa01068",
   "metadata": {},
   "source": [
    "# Python collections (Array)\n",
    "<b>list:\n",
    "\n",
    "    List is a collection that is ordered and changeable. Allows duplicate members\n",
    "\n",
    "<b> Tuple:\n",
    "\n",
    "    Tuple is a collection that is ordered and unchangeable. Allows duplicate members\n",
    "\n",
    "<b> Set:\n",
    "\n",
    "    Set is a collection that is unordered and unchangeable. with no duplicate.\n",
    "\n",
    "<b> Dictionary:\n",
    "\n",
    "    Dictionary is a collection that is ordered and changeable. With no duplicate."
   ]
  },
  {
   "cell_type": "markdown",
   "id": "97c84b6a-6966-42e2-83c6-3aea1268cf54",
   "metadata": {},
   "source": [
    "#  Functions in Python:"
   ]
  },
  {
   "cell_type": "code",
   "execution_count": null,
   "id": "a4757996-0f26-4b63-baa8-da4f0ab09cad",
   "metadata": {},
   "outputs": [],
   "source": [
    "def add():\n",
    "    print('Addition:')\n",
    "    a = int(input('Enter No: ').strip())\n",
    "    b = int(input('Enter No: ').strip())\n",
    "    print(f'Total {a+b}')\n",
    "\n",
    "def sub():\n",
    "    print('Subtraction:')\n",
    "    a = int(input('Enter No: ').strip())\n",
    "    b = int(input('Enter No: ').strip())\n",
    "    print(f'Total {a-b}')\n",
    "\n",
    "add()\n",
    "sub()"
   ]
  },
  {
   "cell_type": "code",
   "execution_count": null,
   "id": "6a5ff0c5-14e6-44a8-8371-874c616762a1",
   "metadata": {},
   "outputs": [],
   "source": [
    "def Find_Even(b):\n",
    "    if b%2 == 0:\n",
    "        print('Even')\n",
    "    else:\n",
    "        print('Odd')\n",
    "a = int(input('Enter no: ').strip())\n",
    "Find_Even(a)"
   ]
  },
  {
   "cell_type": "code",
   "execution_count": null,
   "id": "6f751e2e-af9f-47a3-b984-c3a082a028fb",
   "metadata": {},
   "outputs": [],
   "source": [
    "def print_range(r1, r2):\n",
    "    for i in range(r1, r2):\n",
    "        print(i)\n",
    "a = int(input('Enter a: ').strip())\n",
    "b = int(input('Enter b: ').strip())\n",
    "\n",
    "print_range(a, b)"
   ]
  },
  {
   "cell_type": "markdown",
   "id": "45263780-7e9e-49c9-801c-5285a9e64faa",
   "metadata": {},
   "source": [
    "### Return Keyword in Python:"
   ]
  },
  {
   "cell_type": "code",
   "execution_count": 7,
   "id": "f4f4183d-c6b7-4d84-950c-7d9a4853c7c7",
   "metadata": {},
   "outputs": [
    {
     "name": "stdin",
     "output_type": "stream",
     "text": [
      "Enter the username:  JV\n",
      "Enter the password:  1234\n"
     ]
    },
    {
     "name": "stdout",
     "output_type": "stream",
     "text": [
      "True\n"
     ]
    }
   ],
   "source": [
    "username = 'JV'\n",
    "password = 1234\n",
    "\n",
    "def validate(u, p):\n",
    "    if (u == username and p == password):\n",
    "        return True\n",
    "    else:\n",
    "        return False\n",
    "\n",
    "u = input('Enter the username: ').strip()\n",
    "p = int(input('Enter the password: ').strip())\n",
    "\n",
    "a = validate(u, p)\n",
    "print(a)"
   ]
  },
  {
   "cell_type": "code",
   "execution_count": null,
   "id": "0039daff-f9ee-4fae-9741-1ce5f871fd9d",
   "metadata": {},
   "outputs": [],
   "source": [
    "def add(a,b):\n",
    "    return a+b\n",
    "\n",
    "a = int(input('Enter no: ').strip())\n",
    "b = int(input('Enter no: ').strip())\n",
    "Added_value = add(a,b)\n",
    "print(Added_value*2)"
   ]
  },
  {
   "cell_type": "markdown",
   "id": "2e3693e9-159e-456f-8bb5-e0e1de49e162",
   "metadata": {},
   "source": [
    "##  Classes and Objects"
   ]
  },
  {
   "cell_type": "code",
   "execution_count": null,
   "id": "f5e60484-8d8e-4b01-bced-ddc684e5cb8e",
   "metadata": {},
   "outputs": [],
   "source": [
    "class goa:\n",
    "    def party(self):\n",
    "        print('Lets go to party...')\n",
    "    def beach(self):\n",
    "        print('Lets go to beach...')\n",
    "\n",
    "ramesh = goa()  # ramesh is object and goa() is class\n",
    "suresh = goa()  # suresh is object and goa() is class\n",
    "\n",
    "ramesh.beach()\n",
    "suresh.party()"
   ]
  },
  {
   "cell_type": "code",
   "execution_count": null,
   "id": "6e45f6f2-8f49-4451-8808-99bb64cd954e",
   "metadata": {},
   "outputs": [],
   "source": [
    "class Goa:\n",
    "    def __init__(self, name, drink):\n",
    "        self.name = name\n",
    "        self.drink = drink\n",
    "\n",
    "    def party(self):\n",
    "        print(f'{self.name} says: Let\\'s go to a party...')\n",
    "        \n",
    "        if self.drink.lower() == 'yes':\n",
    "            print(f'{self.name} will have a drink.')\n",
    "        else:\n",
    "            print(f'{self.name} will not have a drink.')\n",
    "\n",
    "    def beach(self):\n",
    "        print(f'{self.name} says: Let\\'s go to the beach...')\n",
    "\n",
    "# Collect input from the user\n",
    "name = input('Enter the name: ')\n",
    "drink = input('Drink (Yes/No): ')\n",
    "\n",
    "# Create instances of the Goa class\n",
    "ramesh = Goa(name, drink)\n",
    "suresh = Goa(\"Suresh\", \"No\")\n",
    "\n",
    "# Call methods on the instances\n",
    "ramesh.beach()\n",
    "suresh.party()"
   ]
  },
  {
   "cell_type": "code",
   "execution_count": null,
   "id": "1046ec61-dda9-4e5f-b064-e631ec4d5794",
   "metadata": {},
   "outputs": [],
   "source": [
    "class goa:\n",
    "    def __init__(self, name, drink, beach):  # constructor\n",
    "        self.name = name\n",
    "        self.drink = drink\n",
    "        self.beach = beach\n",
    "    def beach_and_drink(self):\n",
    "        print(f'{self.name} says: let\\'s go to the beach and party')\n",
    "    def beach(self):\n",
    "        print(f'{self.name} says: le\\'s go to the beach')\n",
    "    def vist(Self):\n",
    "        print(f'{self.name} says: just for vist')\n",
    "\n",
    "\n",
    "name = input('Enter the name: ').capitalize()\n",
    "drink = input('Drink (Yes/No): ').capitalize()\n",
    "beach = input('Beach (Yes/No): ').capitalize()\n",
    "\n",
    "obt = goa(name,drink,beach)\n",
    "\n",
    "if drink == 'Yes' and beach == 'Yes':\n",
    "    obt.beach_and_drink()\n",
    "elif drink == 'No' and beach == 'Yes':\n",
    "    obt.beach()\n",
    "elif drink == 'No' and beach == 'No':\n",
    "    obt.vist()\n",
    "else:\n",
    "    print('please enter the correct values')"
   ]
  },
  {
   "cell_type": "code",
   "execution_count": 11,
   "id": "149dfa55-d265-4d2b-ad88-613994e1ad0b",
   "metadata": {},
   "outputs": [
    {
     "name": "stdout",
     "output_type": "stream",
     "text": [
      "Brand Redmi, price 10000, typeC_type\n",
      "Brand Samsung, price 50000, typeC_type\n"
     ]
    }
   ],
   "source": [
    "class phone():\n",
    "    charger_type = 'C_type' # class variables\n",
    "    def __init__(self, brand, price): # instance variables\n",
    "        self.brand = brand\n",
    "        self.price = price\n",
    "    def display(self):\n",
    "        print(f'Brand {self.brand}, price {self.price}, type{self.charger_type}')\n",
    "\n",
    "redmi = phone('Redmi', 10000)\n",
    "samsung = phone('Samsung', 50000)\n",
    "redmi.display()\n",
    "samsung.display()"
   ]
  },
  {
   "cell_type": "markdown",
   "id": "99061a3e-284d-4a65-9420-1ee177cb3d62",
   "metadata": {},
   "source": [
    "## Type of methods/classes:\n",
    "1) Instance method\n",
    "2) Class Method\n",
    "3) Static Method"
   ]
  },
  {
   "cell_type": "markdown",
   "id": "e6ac66c4-5d0a-4daf-bb87-3af52e0db03e",
   "metadata": {},
   "source": [
    "#### Instance Method\n",
    "\n",
    "    executed the program using only instance variables"
   ]
  },
  {
   "cell_type": "code",
   "execution_count": null,
   "id": "bbf14633-d574-4111-93c5-6e576ed1f7ce",
   "metadata": {},
   "outputs": [],
   "source": [
    "class phone():\n",
    "    def __init__(self, brand, price): # instance variables\n",
    "        self.brand = brand\n",
    "        self.price = price\n",
    "    def display(self):\n",
    "        print(f'Brand {self.brand}, price {self.price}')\n",
    "\n",
    "redmi = phone('Redmi', 10000)\n",
    "samsung = phone('Samsung', 50000)\n",
    "redmi.display()\n",
    "samsung.display()"
   ]
  },
  {
   "cell_type": "markdown",
   "id": "ab2135f9-ca7b-4419-ae62-b013f37e6186",
   "metadata": {},
   "source": [
    "#### Instance Method\n",
    "    executed using Class variables\n",
    "    In order to access only the class method we should use the decorator."
   ]
  },
  {
   "cell_type": "code",
   "execution_count": 12,
   "id": "804c9c7b-7cb2-4aa1-8328-9ccd91392525",
   "metadata": {},
   "outputs": [
    {
     "name": "stdout",
     "output_type": "stream",
     "text": [
      "Brand Redmi, price 10000, typeC_type\n",
      "Brand Samsung, price 50000, typeC_type\n",
      "C_type\n"
     ]
    }
   ],
   "source": [
    "class phone():\n",
    "    charger_type = 'C_type' # class variables\n",
    "    def __init__(self, brand, price): # instance variables\n",
    "        self.brand = brand\n",
    "        self.price = price\n",
    "    def display(self):\n",
    "        print(f'Brand {self.brand}, price {self.price}, type{self.charger_type}')\n",
    "\n",
    "    @classmethod\n",
    "\n",
    "    def info(phone):\n",
    "        print(phone.charger_type)\n",
    "    \n",
    "redmi = phone('Redmi', 10000)\n",
    "samsung = phone('Samsung', 50000)\n",
    "redmi.display()\n",
    "samsung.display()\n",
    "info = phone('Redmi', 10000)\n",
    "info.info()"
   ]
  },
  {
   "cell_type": "markdown",
   "id": "8b1e081a-6fab-454b-a17d-f3e25b32e1e5",
   "metadata": {},
   "source": [
    "#### Static Method\n",
    "    executed using without any variables\n",
    "    To execute only the static method we should use the decorator:"
   ]
  },
  {
   "cell_type": "code",
   "execution_count": 8,
   "id": "9c83cc51-ca20-45e5-9812-d264fd0c159e",
   "metadata": {
    "scrolled": true
   },
   "outputs": [
    {
     "name": "stdout",
     "output_type": "stream",
     "text": [
      "Brand Redmi, price 10000, typeC_type\n",
      "Brand Samsung, price 50000, typeC_type\n",
      "C_type\n",
      "This is laptop\n"
     ]
    }
   ],
   "source": [
    "class phone():\n",
    "    charger_type = 'C_type' # class variables\n",
    "    def __init__(self, brand, price): # instance variables\n",
    "        self.brand = brand\n",
    "        self.price = price\n",
    "    def display(self):\n",
    "        print(f'Brand {self.brand}, price {self.price}, type{self.charger_type}')\n",
    "\n",
    "    @classmethod\n",
    "\n",
    "    def info(phone):\n",
    "        print(phone.charger_type)\n",
    "\n",
    "    @staticmethod\n",
    "\n",
    "    def final():\n",
    "        print('This is laptop')\n",
    "\n",
    "redmi = phone('Redmi', 10000)\n",
    "samsung = phone('Samsung', 50000)\n",
    "redmi.display()\n",
    "samsung.display()\n",
    "info = phone('Redmi', 10000)\n",
    "info.info()\n",
    "info.final()"
   ]
  },
  {
   "cell_type": "markdown",
   "id": "fbdd92a0-b1cb-4a79-b68d-b086ca63b9a9",
   "metadata": {},
   "source": [
    "# Inheritance and its type"
   ]
  },
  {
   "cell_type": "code",
   "execution_count": 13,
   "id": "293591c0-b2e1-4108-a407-3a7cd57a4453",
   "metadata": {},
   "outputs": [
    {
     "name": "stdout",
     "output_type": "stream",
     "text": [
      "Animal makes sound\n"
     ]
    }
   ],
   "source": [
    "class Animal:\n",
    "    def Sound(Self):\n",
    "        print('Animal makes sound')\n",
    "class Dog(Animal):\n",
    "    pass\n",
    "\n",
    "a = Dog()\n",
    "a.Sound()"
   ]
  },
  {
   "cell_type": "code",
   "execution_count": null,
   "id": "3dd12a90-e88a-4487-beb4-f6068dca3e0d",
   "metadata": {},
   "outputs": [],
   "source": [
    "class Animal:\n",
    "    name = \"\"\n",
    "    def eat(self):\n",
    "        print('I can eat')\n",
    "class Dog(Animal):\n",
    "    def display(self):\n",
    "        print(f'My name is {self.name}')\n",
    "\n",
    "Labrador = Dog()\n",
    "Labrador.name = 'JV'\n",
    "\n",
    "Labrador.display()\n",
    "Labrador.eat()"
   ]
  },
  {
   "cell_type": "markdown",
   "id": "15f491e3-0105-4bcd-a7c3-7032d8b54357",
   "metadata": {},
   "source": [
    "#### using the super() we can either call the parent function or the variables"
   ]
  },
  {
   "cell_type": "code",
   "execution_count": 14,
   "id": "bc62db6f-b7d1-4a30-bc17-9dfe96b1aa25",
   "metadata": {},
   "outputs": [
    {
     "name": "stdout",
     "output_type": "stream",
     "text": [
      "I can eat\n",
      "My name is JV\n"
     ]
    }
   ],
   "source": [
    "class Animal:\n",
    "    name = \"\"\n",
    "    def eat(self):\n",
    "        print('I can eat')\n",
    "class Dog(Animal):\n",
    "    def display(self):\n",
    "        super().eat()\n",
    "        print(f'My name is {self.name}')\n",
    "\n",
    "Labrador = Dog()\n",
    "Labrador.name = 'JV'\n",
    "\n",
    "Labrador.display()\n",
    "# Here I am only calling the display function in the dog class "
   ]
  },
  {
   "cell_type": "code",
   "execution_count": null,
   "id": "df9b5cf5-e5c4-4d36-8fcc-5490892ed755",
   "metadata": {},
   "outputs": [],
   "source": [
    "class a:\n",
    "    def __init__(self, Name, Age):\n",
    "        self.Name = Name\n",
    "        self.Age = Age\n",
    "        \n",
    "    def display(self):\n",
    "        print(f'Name: {self.Name} and Age: {self.Age}')\n",
    "        \n",
    "class b(a):\n",
    "    def __init__(self, Name, Age, Department):\n",
    "        super().__init__(Name, Age)\n",
    "        self.Department = Department\n",
    "        \n",
    "    def display(self):\n",
    "        print(f'Name: {self.Name} and Age: {self.Age} and Department: {self.Department}')\n",
    "\n",
    "Name = input('Name: ')\n",
    "Age = int(input('Age: '))\n",
    "Department = input('Department: ')\n",
    "\n",
    "c = b(Name, Age, Department)\n",
    "\n",
    "c.display()"
   ]
  },
  {
   "cell_type": "markdown",
   "id": "bb7a2db3-d727-4819-8329-68fc97a38d71",
   "metadata": {},
   "source": [
    "#### multiple inheritance"
   ]
  },
  {
   "cell_type": "code",
   "execution_count": null,
   "id": "6961dd5b-5778-4ecf-9089-6bbabfe765c6",
   "metadata": {},
   "outputs": [],
   "source": [
    "class a:\n",
    "    def __init__(self, Name, Age):\n",
    "        self.Name = Name\n",
    "        self.Age = Age\n",
    "        \n",
    "    def display(self):\n",
    "        print(f'Name: {self.Name} and Age: {self.Age}')\n",
    "        \n",
    "class b():\n",
    "    def __init__(self, Name, Age, Department):\n",
    "        super().__init__(Name, Age)\n",
    "        self.Department = Department\n",
    "        \n",
    "    def display(self):\n",
    "        print(f'Name: {self.Name} and Age: {self.Age} and Department: {self.Department}')\n",
    "\n",
    "class c(b,a):\n",
    "    def __init__(self, Name, Age, Department, salary):\n",
    "        super().__init__(Name, Age, Department)\n",
    "        self.salary = salary\n",
    "\n",
    "    def display(self):\n",
    "        print(f'Name: {self.Name} and Age: {self.Age} and Department: {self.Department} and Salary: {self.salary}')\n",
    "\n",
    "Name = input('Name: ')\n",
    "Age = int(input('Age: '))\n",
    "Department = input('Department: ')\n",
    "Salary = int(input('Salary: '))\n",
    "\n",
    "d = c(Name, Age, Department, Salary)\n",
    "\n",
    "d.display()"
   ]
  },
  {
   "cell_type": "markdown",
   "id": "50f5976e-35cf-408e-9bb0-f2856e15a5cf",
   "metadata": {},
   "source": [
    "# Polymorphism in Python"
   ]
  },
  {
   "cell_type": "code",
   "execution_count": 10,
   "id": "a12f3ed2-7528-421c-8d65-b04df2813482",
   "metadata": {},
   "outputs": [],
   "source": [
    "class Cat:\n",
    "    def __init__(self, name, age):\n",
    "        self.name = name\n",
    "        self.age = age\n",
    "\n",
    "    def info(self):\n",
    "        print(f\"I am a cat. My name is {self.name}. I am {self.age} years old.\")\n",
    "\n",
    "    def make_sound(self):\n",
    "        print(\"Meow\")\n",
    "\n",
    "class Dog:\n",
    "    def __init__(self, name, age):\n",
    "        self.name = name\n",
    "        self.age = age\n",
    "\n",
    "    def info(self):\n",
    "        print(f\"I am a dog. My name is {self.name}. I am {self.age} years old.\")\n",
    "\n",
    "    def make_sound(self):\n",
    "        print(\"Bark\")\n",
    "\n",
    "\n",
    "cat1 = Cat(\"Kitty\", 2.5)\n",
    "dog1 = Dog(\"Fluffy\", 4)\n",
    "\n",
    "# for i in (cat1):\n",
    "#     i.make_sound()\n",
    "#     i.info()\n",
    "\n",
    "## Different class with the same function \n",
    "## Different classes to have methods with the same name"
   ]
  },
  {
   "cell_type": "markdown",
   "id": "4e621585-578b-461a-a6ac-819fb0c207a1",
   "metadata": {},
   "source": [
    "# Encapsulation \n",
    "    Encapsulation allows you to define controlled access to data stored inside objects of your class\n",
    "<b> create a private variable using '__' and '_' denoted protected variables"
   ]
  },
  {
   "cell_type": "code",
   "execution_count": 11,
   "id": "0acf867b-7895-4800-9b6a-bea05c5b5ad3",
   "metadata": {},
   "outputs": [
    {
     "name": "stdout",
     "output_type": "stream",
     "text": [
      "company names: ('Redmi', 'Samsung')\n",
      "company names: Iphone\n"
     ]
    }
   ],
   "source": [
    "class company:\n",
    "    def __init__(self, company_name, company_name_1):\n",
    "        self.__company_name = company_name  ## private variable\n",
    "        self._company_name_1 = company_name_1  ## protected variable\n",
    "    def display(self):\n",
    "        print(f'company names: {self.__company_name, self._company_name_1}')\n",
    "\n",
    "class info(company):\n",
    "\n",
    "    def __init__(self,company_name, company_name_1):\n",
    "        super().__init__(company_name, company_name_1)\n",
    "    def display1(self):\n",
    "        print(f'company names: {self._company_name_1}') ## If I add self.__company_name here it will throw an error there are no attributes.\n",
    "\n",
    "a = company('Redmi', 'Samsung')\n",
    "a.display()\n",
    "\n",
    "b = info('Poco', 'Iphone')\n",
    "b.display1()"
   ]
  },
  {
   "cell_type": "code",
   "execution_count": null,
   "id": "5fa8bf12-d9d4-4e2e-bec2-d672c9e617c4",
   "metadata": {},
   "outputs": [],
   "source": []
  },
  {
   "cell_type": "code",
   "execution_count": null,
   "id": "bdc2040c-f82e-4bc5-ad84-d7f25afa9974",
   "metadata": {},
   "outputs": [],
   "source": []
  }
 ],
 "metadata": {
  "kernelspec": {
   "display_name": "Python 3 (ipykernel)",
   "language": "python",
   "name": "python3"
  },
  "language_info": {
   "codemirror_mode": {
    "name": "ipython",
    "version": 3
   },
   "file_extension": ".py",
   "mimetype": "text/x-python",
   "name": "python",
   "nbconvert_exporter": "python",
   "pygments_lexer": "ipython3",
   "version": "3.12.3"
  },
  "widgets": {
   "application/vnd.jupyter.widget-state+json": {
    "state": {},
    "version_major": 2,
    "version_minor": 0
   }
  }
 },
 "nbformat": 4,
 "nbformat_minor": 5
}
