{
 "cells": [
  {
   "cell_type": "markdown",
   "id": "00b89674-420b-488c-b211-1699791385c3",
   "metadata": {},
   "source": [
    "# Functions\n",
    "## List Functions"
   ]
  },
  {
   "cell_type": "code",
   "execution_count": 51,
   "id": "3e7e7fd4-5a54-4a7d-92c1-4bf337ade68b",
   "metadata": {},
   "outputs": [
    {
     "name": "stdout",
     "output_type": "stream",
     "text": [
      "lists [6, 3, 9, 5, 'D', 'C', 'B', 'A', 'Varadhan', 'Jayavaradhan', 'Ananadan', 'Sreeram']\n"
     ]
    }
   ],
   "source": [
    "Name = ['Ravi','Chandru','Ananadan','Jayavaradhan']\n",
    "Name_1 = ['A','B','C','D',5,9,3,6]\n",
    "\n",
    "Name_copy = Name.copy()\n",
    "\n",
    "Name.append('Varadhan')\n",
    "Name.insert(2,'Sreeram') # based on the index value it will add the value\n",
    "Name.extend(Name_1) # It'll add another list to the existing list\n",
    "Name.remove(\"Ravi\")\n",
    "Name.pop(0)\n",
    "# Name.sort()\n",
    "Name.reverse()\n",
    "\n",
    "print(f'lists {Name}')"
   ]
  },
  {
   "cell_type": "markdown",
   "id": "39e55ce2-b1b1-4dff-991e-fda3124702ff",
   "metadata": {},
   "source": [
    "## String Functions"
   ]
  },
  {
   "cell_type": "code",
   "execution_count": 79,
   "id": "4bf48b27-15b1-4d0d-90ef-b5a66f2f219b",
   "metadata": {},
   "outputs": [
    {
     "name": "stdout",
     "output_type": "stream",
     "text": [
      "\n",
      "I love python\n",
      "***I love python****\n",
      "0 \n",
      "True\n",
      "2\n",
      "\n"
     ]
    }
   ],
   "source": [
    "string = 'I love python'\n",
    "a = string.capitalize()\n",
    "b = string.center(20,'*')\n",
    "c = string.count('a')\n",
    "d = string.endswith('python')\n",
    "e = string.find('love')\n",
    "\n",
    "print(f'''\n",
    "{a}\n",
    "{b}\n",
    "{c} \n",
    "{d}\n",
    "{e}\n",
    "''')\n"
   ]
  },
  {
   "cell_type": "markdown",
   "id": "1e5c4fd1-a381-4215-8d6f-c1b9d141afcd",
   "metadata": {},
   "source": [
    "## # string slicing"
   ]
  },
  {
   "cell_type": "code",
   "execution_count": 84,
   "id": "42e6371e-4b0f-402f-bcca-7cf6150c1f6c",
   "metadata": {},
   "outputs": [
    {
     "name": "stdout",
     "output_type": "stream",
     "text": [
      "I lov\n",
      "e\n",
      "ytho\n"
     ]
    }
   ],
   "source": [
    "print(string[0:5])\n",
    "print(string[5])\n",
    "print(string[-5:-1])"
   ]
  },
  {
   "cell_type": "markdown",
   "id": "bc7d9767-0406-4c62-a887-273b721cf5c9",
   "metadata": {},
   "source": [
    "# Truple Functions"
   ]
  },
  {
   "cell_type": "code",
   "execution_count": 92,
   "id": "4cfbf4e1-2538-4f97-9e3a-9682a709e524",
   "metadata": {},
   "outputs": [
    {
     "name": "stdout",
     "output_type": "stream",
     "text": [
      "2\n",
      "1\n",
      "['Apple', 'Grapes', 'Orange', 'Watermelon']\n",
      "4\n",
      "99\n"
     ]
    }
   ],
   "source": [
    "Truple_1 = ('Apple', 'Orange', 'Grapes', 'Watermelon')\n",
    "A = Truple_1.count('Apple')\n",
    "B = Truple_1.index('Grapes')\n",
    "C = len(Truple_1)\n",
    "D = sorted(Truple_1)\n",
    "Truple_2 = (1,5,5,4,65,2,8,3,6)\n",
    "E = sum(Truple_2)\n",
    "print(B)\n",
    "print(A)\n",
    "print(D)\n",
    "print(C)\n",
    "print(E)"
   ]
  },
  {
   "cell_type": "markdown",
   "id": "100125f9-612f-42c4-84e3-c658d4cf339a",
   "metadata": {},
   "source": [
    "## Dictionary Functions:"
   ]
  },
  {
   "cell_type": "code",
   "execution_count": 116,
   "id": "f3f216a7-596b-41d6-b97a-3e43df1f9023",
   "metadata": {},
   "outputs": [
    {
     "name": "stdout",
     "output_type": "stream",
     "text": [
      "\n",
      "      Dictionary: {'Python': 1, 'Java': 2, 'CSS': 3, 'C++': 4} \n",
      "\n",
      "      Values: [1, 2, 3, 4] \n",
      "\n",
      "      Get method (name): None \n",
      "\n",
      "      Keys: ['Python', 'Java', 'CSS', 'C++'] \n",
      "\n",
      "      Items: [('Python', 1), ('Java', 2), ('CSS', 3), ('C++', 4)]\n"
     ]
    }
   ],
   "source": [
    "Dict_1 = {'Python': 1,\n",
    "          'Java': 2,\n",
    "          'CSS': 3}\n",
    "Dict_1.update({'C++': 4})\n",
    "\n",
    "print(f'''\n",
    "      Dictionary: {Dict_1} \\n\n",
    "      Values: {list(Dict_1.values())} \\n\n",
    "      Get method (name): {Dict_1.get(\"name\")} \\n\n",
    "      Keys: {list(Dict_1.keys())} \\n\n",
    "      Items: {list(Dict_1.items())}''')\n"
   ]
  },
  {
   "cell_type": "code",
   "execution_count": null,
   "id": "6a45e6e9-7741-4f90-9724-71b5da0ea8f7",
   "metadata": {},
   "outputs": [],
   "source": []
  },
  {
   "cell_type": "code",
   "execution_count": null,
   "id": "a381a959-4e19-4e70-9e62-be25b52dd7fe",
   "metadata": {},
   "outputs": [],
   "source": []
  }
 ],
 "metadata": {
  "kernelspec": {
   "display_name": "Python 3 (ipykernel)",
   "language": "python",
   "name": "python3"
  },
  "language_info": {
   "codemirror_mode": {
    "name": "ipython",
    "version": 3
   },
   "file_extension": ".py",
   "mimetype": "text/x-python",
   "name": "python",
   "nbconvert_exporter": "python",
   "pygments_lexer": "ipython3",
   "version": "3.11.7"
  },
  "widgets": {
   "application/vnd.jupyter.widget-state+json": {
    "state": {},
    "version_major": 2,
    "version_minor": 0
   }
  }
 },
 "nbformat": 4,
 "nbformat_minor": 5
}
