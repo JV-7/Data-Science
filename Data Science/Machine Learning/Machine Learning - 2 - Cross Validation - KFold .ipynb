{
 "cells": [
  {
   "cell_type": "code",
   "execution_count": 2,
   "id": "42649403-280b-4b62-a6d7-7c50fa3ad906",
   "metadata": {},
   "outputs": [],
   "source": [
    "import pandas as pd\n",
    "import numpy as np\n",
    "from sklearn.model_selection import train_test_split, cross_val_score, KFold\n",
    "from sklearn.linear_model import LogisticRegression\n",
    "from sklearn.preprocessing import StandardScaler\n",
    "from sklearn.pipeline import make_pipeline, Pipeline"
   ]
  },
  {
   "cell_type": "code",
   "execution_count": 21,
   "id": "ccc79127-7c51-4ea2-a403-24280dd037bf",
   "metadata": {},
   "outputs": [
    {
     "name": "stdout",
     "output_type": "stream",
     "text": [
      "   fastball_speed  tommy_john\n",
      "0              96           0\n",
      "1              93           0\n",
      "2             102           1\n",
      "3             104           1\n",
      "4             100           0\n",
      "\n",
      "test1 - Score: \n",
      " 0.71\n",
      "\n",
      "test2 - Score: \n",
      " 0.8\n",
      "\n",
      "\n",
      "cross_validation: [0.68 0.78 0.72 0.72 0.78 0.82 0.74 0.74 0.76 0.82]\n",
      "\n",
      "KFscore1: [0.74 0.72 0.7  0.72 0.77 0.65 0.63 0.65 0.65 0.63] \n",
      "\n",
      "KFscore2: [0.82 0.8  0.68 0.78 0.82 0.76 0.74 0.76 0.68 0.72]\n"
     ]
    }
   ],
   "source": [
    "np.random.seed(42)\n",
    "fastball_speed = np.random.randint(90, 106, size=500)\n",
    "tommy_john = np.where(fastball_speed>96, np.random.choice([0, 1], size=500, p=[0.3, 0.7]), 0) # probability of selecting 0 is 0.3 (30%), and the probability of selecting 1 is 0.7 (70%).\n",
    "\n",
    "data = {'fastball_speed' : fastball_speed,\n",
    "        'tommy_john': tommy_john}\n",
    "\n",
    "df = pd.DataFrame(data)\n",
    "\n",
    "print(df.head())\n",
    "\n",
    "x = df[['fastball_speed']]\n",
    "y = df[['tommy_john']]\n",
    "LR = LogisticRegression()\n",
    "# test1:\n",
    "x_train, x_test, y_train, y_test = train_test_split(x, y, test_size=0.2, random_state=11)\n",
    "\n",
    "LR.fit(x_train, y_train.values.ravel())\n",
    "\n",
    "print('\\ntest1 - Score: \\n', LR.score(x_test, y_test))\n",
    "\n",
    "# test2:\n",
    "x_train2, x_test2, y_train2, y_test2 = train_test_split(x, y, test_size=0.2, random_state=25)\n",
    "\n",
    "LR.fit(x_train2, y_train2.values.ravel())\n",
    "\n",
    "print('\\ntest2 - Score: \\n', LR.score(x_test2, y_test2))\n",
    "\n",
    "''' Here we can see some variance in the 1st and 2nd tests '''\n",
    "\n",
    "cross_validation = cross_val_score(LR, x, y.values.ravel(), cv=10)\n",
    "print('\\n\\ncross_validation:', cross_validation)\n",
    "\n",
    "''' Cross-validation and KFold are both the same '''\n",
    "\n",
    "KF = KFold(n_splits=10, shuffle=True, random_state=42)\n",
    "KFscore1 = cross_val_score(LR, x, y.values.ravel(), cv=KF, scoring='f1')\n",
    "KFscore2 = cross_val_score(LR, x, y.values.ravel(), cv=KF, scoring='accuracy')\n",
    "\n",
    "print(f'''\n",
    "KFscore1: {KFscore1.round(2)} \\n\n",
    "KFscore2: {KFscore2.round(2)}''')\n"
   ]
  },
  {
   "cell_type": "markdown",
   "id": "4764899e-0a11-4d7d-817e-3dfe32c76d0d",
   "metadata": {},
   "source": [
    "## adding the pipeline"
   ]
  },
  {
   "cell_type": "code",
   "execution_count": 22,
   "id": "0ddb236b-6a7c-4092-99c2-8a84bbe0a8df",
   "metadata": {},
   "outputs": [
    {
     "data": {
      "text/plain": [
       "array([0.68, 0.78, 0.72, 0.72, 0.78, 0.82, 0.74, 0.74, 0.76, 0.82])"
      ]
     },
     "execution_count": 22,
     "metadata": {},
     "output_type": "execute_result"
    }
   ],
   "source": [
    "Scaler = StandardScaler()\n",
    "\n",
    "pipe1 = make_pipeline(Scaler, LR)\n",
    "pipe1.fit(x, y.values.ravel())\n",
    "\n",
    "cross_validation1 = cross_val_score(pipe1,x, y.values.ravel(), cv=10)\n",
    "cross_validation1"
   ]
  },
  {
   "cell_type": "code",
   "execution_count": null,
   "id": "9d62e4a1-50a5-4927-845a-b40207b64ee1",
   "metadata": {},
   "outputs": [],
   "source": []
  },
  {
   "cell_type": "code",
   "execution_count": null,
   "id": "1366c7b9-6b7f-4c5f-8c39-d3aaa52f53d8",
   "metadata": {},
   "outputs": [],
   "source": []
  },
  {
   "cell_type": "code",
   "execution_count": null,
   "id": "bcf21975-ca5d-4a68-bcd1-d17ff3c914d6",
   "metadata": {},
   "outputs": [],
   "source": []
  }
 ],
 "metadata": {
  "kernelspec": {
   "display_name": "Python 3 (ipykernel)",
   "language": "python",
   "name": "python3"
  },
  "language_info": {
   "codemirror_mode": {
    "name": "ipython",
    "version": 3
   },
   "file_extension": ".py",
   "mimetype": "text/x-python",
   "name": "python",
   "nbconvert_exporter": "python",
   "pygments_lexer": "ipython3",
   "version": "3.12.3"
  },
  "widgets": {
   "application/vnd.jupyter.widget-state+json": {
    "state": {},
    "version_major": 2,
    "version_minor": 0
   }
  }
 },
 "nbformat": 4,
 "nbformat_minor": 5
}
