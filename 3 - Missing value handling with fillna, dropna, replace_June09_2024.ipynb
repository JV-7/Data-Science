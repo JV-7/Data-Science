{
 "cells": [
  {
   "cell_type": "code",
   "execution_count": 1,
   "id": "94099421-5079-4463-a251-7d1033bafd18",
   "metadata": {},
   "outputs": [],
   "source": [
    "import pandas as pd\n",
    "import numpy as np\n",
    "import matplotlib.pyplot as plt"
   ]
  },
  {
   "cell_type": "code",
   "execution_count": 13,
   "id": "fb250f80-f9e9-41e2-92f5-b143c5a4fd29",
   "metadata": {
    "scrolled": true
   },
   "outputs": [],
   "source": [
    "# create a data frame\n",
    "df = pd.DataFrame([[1, 9, 2, 6.6],\n",
    "                  [2, 5, np.nan, 8],\n",
    "                  [1, np.nan, None, 7.8]],\n",
    "                 columns=['A','B','C','D'])"
   ]
  },
  {
   "cell_type": "code",
   "execution_count": null,
   "id": "199cb457-9665-4693-b0a9-3d94d7ed2908",
   "metadata": {},
   "outputs": [],
   "source": [
    "# isna ir is null to check the total null or NaN values in the data set\n",
    "df.isna()\n",
    "df.isnull()\n",
    "df.isna().sum()\n",
    "df.isnull().sum()"
   ]
  },
  {
   "cell_type": "code",
   "execution_count": null,
   "id": "61f39482-f8ad-49ce-9edb-e896f95a065c",
   "metadata": {},
   "outputs": [],
   "source": [
    "df.dropna(axis = 0)  # axis 1 indicate the rows\n",
    "df.dropna(axis = 1)  # axis 0 indicate the columns\n",
    "\n",
    "df.dropna(axis = 1, inplace= True)\n",
    "df"
   ]
  },
  {
   "cell_type": "code",
   "execution_count": null,
   "id": "7905d5ac-c192-43d1-9851-3042f9db4024",
   "metadata": {},
   "outputs": [],
   "source": [
    "df.fillna('d')"
   ]
  },
  {
   "cell_type": "markdown",
   "id": "1a15e461-e601-47c0-867c-28cc21630b30",
   "metadata": {},
   "source": [
    "#### forward fill and backward fill using methods"
   ]
  },
  {
   "cell_type": "code",
   "execution_count": null,
   "id": "21371239-1d04-40dc-a203-7fc0f50c6d97",
   "metadata": {},
   "outputs": [],
   "source": [
    "df.ffill()  # forward fill\n",
    "df.bfill()  # backward fil"
   ]
  },
  {
   "cell_type": "code",
   "execution_count": 16,
   "id": "1a6794ed-9079-4cfc-a2e6-bcb11f3a34f4",
   "metadata": {},
   "outputs": [
    {
     "data": {
      "text/html": [
       "<div>\n",
       "<style scoped>\n",
       "    .dataframe tbody tr th:only-of-type {\n",
       "        vertical-align: middle;\n",
       "    }\n",
       "\n",
       "    .dataframe tbody tr th {\n",
       "        vertical-align: top;\n",
       "    }\n",
       "\n",
       "    .dataframe thead th {\n",
       "        text-align: right;\n",
       "    }\n",
       "</style>\n",
       "<table border=\"1\" class=\"dataframe\">\n",
       "  <thead>\n",
       "    <tr style=\"text-align: right;\">\n",
       "      <th></th>\n",
       "      <th>A</th>\n",
       "      <th>B</th>\n",
       "      <th>C</th>\n",
       "      <th>D</th>\n",
       "    </tr>\n",
       "  </thead>\n",
       "  <tbody>\n",
       "    <tr>\n",
       "      <th>0</th>\n",
       "      <td>1</td>\n",
       "      <td>9.0</td>\n",
       "      <td>2.0</td>\n",
       "      <td>6.6</td>\n",
       "    </tr>\n",
       "    <tr>\n",
       "      <th>1</th>\n",
       "      <td>2</td>\n",
       "      <td>0.0</td>\n",
       "      <td>NaN</td>\n",
       "      <td>8.0</td>\n",
       "    </tr>\n",
       "    <tr>\n",
       "      <th>2</th>\n",
       "      <td>1</td>\n",
       "      <td>NaN</td>\n",
       "      <td>NaN</td>\n",
       "      <td>7.8</td>\n",
       "    </tr>\n",
       "  </tbody>\n",
       "</table>\n",
       "</div>"
      ],
      "text/plain": [
       "   A    B    C    D\n",
       "0  1  9.0  2.0  6.6\n",
       "1  2  0.0  NaN  8.0\n",
       "2  1  NaN  NaN  7.8"
      ]
     },
     "execution_count": 16,
     "metadata": {},
     "output_type": "execute_result"
    }
   ],
   "source": [
    "df.replace(to_replace=5,value=0, regex=False)"
   ]
  },
  {
   "cell_type": "markdown",
   "id": "2f37111f-f947-4aa5-9237-f8517fcc9a04",
   "metadata": {},
   "source": [
    "### Thresh in drop na"
   ]
  },
  {
   "cell_type": "code",
   "execution_count": 17,
   "id": "33a17c68-87a0-4563-bce9-67f2ad537ea8",
   "metadata": {},
   "outputs": [],
   "source": [
    "df = pd.DataFrame({\n",
    "    'A': [1, 2, np.nan, 4],\n",
    "    'B': [np.nan, 2, 3, np.nan],\n",
    "    'C': [1, np.nan, np.nan, 4],\n",
    "    'D': [np.nan, np.nan, np.nan, 4]\n",
    "})"
   ]
  },
  {
   "cell_type": "code",
   "execution_count": 18,
   "id": "86cff67d-d725-4f6a-88ab-9848f1dd0c01",
   "metadata": {},
   "outputs": [
    {
     "data": {
      "text/html": [
       "<div>\n",
       "<style scoped>\n",
       "    .dataframe tbody tr th:only-of-type {\n",
       "        vertical-align: middle;\n",
       "    }\n",
       "\n",
       "    .dataframe tbody tr th {\n",
       "        vertical-align: top;\n",
       "    }\n",
       "\n",
       "    .dataframe thead th {\n",
       "        text-align: right;\n",
       "    }\n",
       "</style>\n",
       "<table border=\"1\" class=\"dataframe\">\n",
       "  <thead>\n",
       "    <tr style=\"text-align: right;\">\n",
       "      <th></th>\n",
       "      <th>A</th>\n",
       "      <th>B</th>\n",
       "      <th>C</th>\n",
       "      <th>D</th>\n",
       "    </tr>\n",
       "  </thead>\n",
       "  <tbody>\n",
       "    <tr>\n",
       "      <th>0</th>\n",
       "      <td>1.0</td>\n",
       "      <td>NaN</td>\n",
       "      <td>1.0</td>\n",
       "      <td>NaN</td>\n",
       "    </tr>\n",
       "    <tr>\n",
       "      <th>1</th>\n",
       "      <td>2.0</td>\n",
       "      <td>2.0</td>\n",
       "      <td>NaN</td>\n",
       "      <td>NaN</td>\n",
       "    </tr>\n",
       "    <tr>\n",
       "      <th>3</th>\n",
       "      <td>4.0</td>\n",
       "      <td>NaN</td>\n",
       "      <td>4.0</td>\n",
       "      <td>4.0</td>\n",
       "    </tr>\n",
       "  </tbody>\n",
       "</table>\n",
       "</div>"
      ],
      "text/plain": [
       "     A    B    C    D\n",
       "0  1.0  NaN  1.0  NaN\n",
       "1  2.0  2.0  NaN  NaN\n",
       "3  4.0  NaN  4.0  4.0"
      ]
     },
     "execution_count": 18,
     "metadata": {},
     "output_type": "execute_result"
    }
   ],
   "source": [
    "df.dropna(thresh=2) # # Drop rows with less than 2 non-NA values"
   ]
  },
  {
   "cell_type": "code",
   "execution_count": 19,
   "id": "d129b2e7-4755-4f8a-9b65-772f85d09829",
   "metadata": {},
   "outputs": [
    {
     "data": {
      "text/html": [
       "<div>\n",
       "<style scoped>\n",
       "    .dataframe tbody tr th:only-of-type {\n",
       "        vertical-align: middle;\n",
       "    }\n",
       "\n",
       "    .dataframe tbody tr th {\n",
       "        vertical-align: top;\n",
       "    }\n",
       "\n",
       "    .dataframe thead th {\n",
       "        text-align: right;\n",
       "    }\n",
       "</style>\n",
       "<table border=\"1\" class=\"dataframe\">\n",
       "  <thead>\n",
       "    <tr style=\"text-align: right;\">\n",
       "      <th></th>\n",
       "      <th>A</th>\n",
       "    </tr>\n",
       "  </thead>\n",
       "  <tbody>\n",
       "    <tr>\n",
       "      <th>0</th>\n",
       "      <td>1.0</td>\n",
       "    </tr>\n",
       "    <tr>\n",
       "      <th>1</th>\n",
       "      <td>2.0</td>\n",
       "    </tr>\n",
       "    <tr>\n",
       "      <th>2</th>\n",
       "      <td>NaN</td>\n",
       "    </tr>\n",
       "    <tr>\n",
       "      <th>3</th>\n",
       "      <td>4.0</td>\n",
       "    </tr>\n",
       "  </tbody>\n",
       "</table>\n",
       "</div>"
      ],
      "text/plain": [
       "     A\n",
       "0  1.0\n",
       "1  2.0\n",
       "2  NaN\n",
       "3  4.0"
      ]
     },
     "execution_count": 19,
     "metadata": {},
     "output_type": "execute_result"
    }
   ],
   "source": [
    "df.dropna(axis=1, thresh=3) # Drop columns with less than 3 non-NA values"
   ]
  },
  {
   "cell_type": "markdown",
   "id": "3741c7bd-5a9c-4860-98c4-81271a8c79ca",
   "metadata": {},
   "source": [
    "### Regex in Replace"
   ]
  },
  {
   "cell_type": "code",
   "execution_count": 20,
   "id": "263eddcf-1c5a-4c4e-b811-853a22b7a70c",
   "metadata": {},
   "outputs": [
    {
     "name": "stdout",
     "output_type": "stream",
     "text": [
      "        A       B\n",
      "0  foo123  123abc\n",
      "1  bar456  456def\n",
      "2  baz789  789ghi\n",
      "        A       B\n",
      "0  foo123  123abc\n",
      "1  bar456  456def\n",
      "2  baz789  789ghi\n",
      "        A       B\n",
      "0  fooxxx  123abc\n",
      "1  barxxx  456def\n",
      "2  bazxxx  789ghi\n",
      "        A       B\n",
      "0  foo123  xxxabc\n",
      "1  bar456  xxxdef\n",
      "2  baz789  xxxghi\n"
     ]
    }
   ],
   "source": [
    "df = pd.DataFrame({\n",
    "    'A': ['foo123', 'bar456', 'baz789'],\n",
    "    'B': ['123abc', '456def', '789ghi']\n",
    "})\n",
    "\n",
    "A = df.replace({'A':r'\\d'}, 'x', regex=False)\n",
    "B = df.replace({'B':r'\\d'}, 'x', regex=False)\n",
    "\n",
    "A1 = df.replace({'A':r'\\d'}, 'x', regex=True)\n",
    "B1 = df.replace({'B':r'\\d'}, 'x', regex=True)\n",
    "\n",
    "print(A)\n",
    "print(B)\n",
    "print(A1)\n",
    "print(B1)"
   ]
  },
  {
   "cell_type": "code",
   "execution_count": null,
   "id": "d7ce6212-eab1-4c7c-8891-ba5129e4dd75",
   "metadata": {},
   "outputs": [],
   "source": []
  }
 ],
 "metadata": {
  "kernelspec": {
   "display_name": "Python 3 (ipykernel)",
   "language": "python",
   "name": "python3"
  },
  "language_info": {
   "codemirror_mode": {
    "name": "ipython",
    "version": 3
   },
   "file_extension": ".py",
   "mimetype": "text/x-python",
   "name": "python",
   "nbconvert_exporter": "python",
   "pygments_lexer": "ipython3",
   "version": "3.11.7"
  },
  "widgets": {
   "application/vnd.jupyter.widget-state+json": {
    "state": {},
    "version_major": 2,
    "version_minor": 0
   }
  }
 },
 "nbformat": 4,
 "nbformat_minor": 5
}
